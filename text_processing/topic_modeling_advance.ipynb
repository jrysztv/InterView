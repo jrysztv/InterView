{
 "cells": [
  {
   "cell_type": "code",
   "execution_count": 7,
   "metadata": {
    "collapsed": true,
    "ExecuteTime": {
     "end_time": "2023-07-04T13:05:10.493038300Z",
     "start_time": "2023-07-04T13:05:10.485114200Z"
    }
   },
   "outputs": [],
   "source": [
    "from pathlib import Path\n",
    "\n",
    "import numpy as np\n",
    "import pandas as pd\n",
    "\n",
    "from topic_modeling import BERTopicModelling\n",
    "from utils.helpers import get_stopwords"
   ]
  },
  {
   "cell_type": "code",
   "execution_count": 8,
   "outputs": [],
   "source": [
    "rootdir = Path('../')\n",
    "workdir = Path('work_files')"
   ],
   "metadata": {
    "collapsed": false,
    "ExecuteTime": {
     "end_time": "2023-07-04T13:05:19.611862900Z",
     "start_time": "2023-07-04T13:05:19.583525500Z"
    }
   }
  },
  {
   "cell_type": "code",
   "execution_count": 9,
   "outputs": [],
   "source": [
    "bertopic_modeller = BERTopicModelling('sentence-transformers/LaBSE', rootdir / Path('results'))\n",
    "hu_stopwords = get_stopwords()"
   ],
   "metadata": {
    "collapsed": false,
    "ExecuteTime": {
     "end_time": "2023-07-04T13:06:00.140023200Z",
     "start_time": "2023-07-04T13:05:40.920757700Z"
    }
   }
  },
  {
   "cell_type": "code",
   "execution_count": 10,
   "outputs": [],
   "source": [
    "sentencized_corpus = pd.read_csv(rootdir / workdir / Path('corpus_sented.csv'))\n",
    "sentence_embeddings = np.load(rootdir / workdir / Path('embedding_sentences.npy'))"
   ],
   "metadata": {
    "collapsed": false,
    "ExecuteTime": {
     "end_time": "2023-07-04T13:06:43.276755600Z",
     "start_time": "2023-07-04T13:06:43.163856300Z"
    }
   }
  },
  {
   "cell_type": "code",
   "execution_count": null,
   "outputs": [],
   "source": [],
   "metadata": {
    "collapsed": false
   }
  }
 ],
 "metadata": {
  "kernelspec": {
   "display_name": "Python 3",
   "language": "python",
   "name": "python3"
  },
  "language_info": {
   "codemirror_mode": {
    "name": "ipython",
    "version": 2
   },
   "file_extension": ".py",
   "mimetype": "text/x-python",
   "name": "python",
   "nbconvert_exporter": "python",
   "pygments_lexer": "ipython2",
   "version": "2.7.6"
  }
 },
 "nbformat": 4,
 "nbformat_minor": 0
}
