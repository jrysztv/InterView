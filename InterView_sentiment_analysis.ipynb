{
 "cells": [
  {
   "cell_type": "code",
   "execution_count": 43,
   "metadata": {
    "collapsed": true,
    "ExecuteTime": {
     "end_time": "2023-08-21T09:22:21.254031800Z",
     "start_time": "2023-08-21T09:22:20.613049500Z"
    }
   },
   "outputs": [],
   "source": [
    "import re\n",
    "\n",
    "from definitions import project_folders\n",
    "import pandas as pd\n",
    "from text_processing.sentencize import sentencize_dataframe\n",
    "from text_processing.import_docx import DocumentToDataFrame\n",
    "import hu_core_news_lg\n",
    "from tqdm import tqdm\n",
    "from utils.helpers import get_stopwords\n",
    "\n",
    "tqdm.pandas()"
   ]
  },
  {
   "cell_type": "code",
   "execution_count": 2,
   "outputs": [],
   "source": [
    "corpus_generator = DocumentToDataFrame(data_folder='data')"
   ],
   "metadata": {
    "collapsed": false,
    "ExecuteTime": {
     "end_time": "2023-08-18T14:18:01.595587300Z",
     "start_time": "2023-08-18T14:18:01.587108600Z"
    }
   }
  },
  {
   "cell_type": "code",
   "execution_count": 3,
   "outputs": [],
   "source": [
    "corpus = corpus_generator.generate_corpus()"
   ],
   "metadata": {
    "collapsed": false,
    "ExecuteTime": {
     "end_time": "2023-08-18T14:18:02.263969900Z",
     "start_time": "2023-08-18T14:18:01.598587500Z"
    }
   }
  },
  {
   "cell_type": "markdown",
   "source": [
    "# Sentencizing and Preprocessing of documents"
   ],
   "metadata": {
    "collapsed": false
   }
  },
  {
   "cell_type": "code",
   "execution_count": 4,
   "outputs": [
    {
     "name": "stderr",
     "output_type": "stream",
     "text": [
      "100%|██████████| 2772/2772 [11:33<00:00,  4.00it/s]\n"
     ]
    }
   ],
   "source": [
    "corpus_sented = sentencize_dataframe(corpus)"
   ],
   "metadata": {
    "collapsed": false,
    "ExecuteTime": {
     "end_time": "2023-08-18T14:29:36.142947700Z",
     "start_time": "2023-08-18T14:18:02.267971900Z"
    }
   }
  },
  {
   "cell_type": "code",
   "execution_count": 5,
   "outputs": [],
   "source": [
    "nlp = hu_core_news_lg.load()"
   ],
   "metadata": {
    "collapsed": false,
    "ExecuteTime": {
     "end_time": "2023-08-18T14:29:50.098817200Z",
     "start_time": "2023-08-18T14:29:43.050486400Z"
    }
   }
  },
  {
   "cell_type": "code",
   "execution_count": 6,
   "outputs": [],
   "source": [
    "tokenizer = nlp.tokenizer"
   ],
   "metadata": {
    "collapsed": false,
    "ExecuteTime": {
     "end_time": "2023-08-18T14:29:50.109416100Z",
     "start_time": "2023-08-18T14:29:50.104901900Z"
    }
   }
  },
  {
   "cell_type": "code",
   "execution_count": 7,
   "outputs": [],
   "source": [
    "corpus_sented['sentence_token_count'] = corpus_sented['sentences'].apply(\n",
    "    lambda x: len(tokenizer(re.sub(' {2,}', ' ', re.sub('[\\\\.\\\\,\\\\?\\\\!]|', '', x)))))"
   ],
   "metadata": {
    "collapsed": false,
    "ExecuteTime": {
     "end_time": "2023-08-18T14:29:53.489251200Z",
     "start_time": "2023-08-18T14:29:50.113952700Z"
    }
   }
  },
  {
   "cell_type": "code",
   "execution_count": 8,
   "outputs": [],
   "source": [
    "corpus_sented['token_count'] = corpus_sented['text'].apply(lambda x: len(tokenizer(x)))"
   ],
   "metadata": {
    "collapsed": false,
    "ExecuteTime": {
     "end_time": "2023-08-18T14:29:54.878039Z",
     "start_time": "2023-08-18T14:29:53.494208500Z"
    }
   }
  },
  {
   "cell_type": "code",
   "execution_count": 9,
   "outputs": [],
   "source": [
    "corpus_sented.to_csv(project_folders['work'] / 'corpus_sented.csv')"
   ],
   "metadata": {
    "collapsed": false,
    "ExecuteTime": {
     "end_time": "2023-08-18T14:29:59.696929400Z",
     "start_time": "2023-08-18T14:29:59.545129500Z"
    }
   }
  },
  {
   "cell_type": "code",
   "execution_count": 10,
   "outputs": [],
   "source": [
    "corpus_sented = corpus_sented[corpus_sented['sentence_token_count'] > 4]"
   ],
   "metadata": {
    "collapsed": false,
    "ExecuteTime": {
     "end_time": "2023-08-18T14:30:10.873161300Z",
     "start_time": "2023-08-18T14:30:10.834139500Z"
    }
   }
  },
  {
   "cell_type": "code",
   "execution_count": 95,
   "outputs": [],
   "source": [
    "# corpus_sented = pd.read_csv(project_folders['work'] / 'corpus_sented.csv')"
   ],
   "metadata": {
    "collapsed": false,
    "ExecuteTime": {
     "end_time": "2023-08-18T12:46:59.288748300Z",
     "start_time": "2023-08-18T12:46:59.000864500Z"
    }
   }
  },
  {
   "cell_type": "code",
   "execution_count": 11,
   "outputs": [
    {
     "name": "stdout",
     "output_type": "stream",
     "text": [
      "<class 'pandas.core.frame.DataFrame'>\n"
     ]
    }
   ],
   "source": [
    "print(type(corpus_sented))"
   ],
   "metadata": {
    "collapsed": false,
    "ExecuteTime": {
     "end_time": "2023-08-14T15:36:59.200855500Z",
     "start_time": "2023-08-14T15:36:59.152821800Z"
    }
   }
  },
  {
   "cell_type": "markdown",
   "source": [
    "# Classification"
   ],
   "metadata": {
    "collapsed": false
   }
  },
  {
   "cell_type": "code",
   "execution_count": 11,
   "outputs": [],
   "source": [
    "# Use a pipeline as a high-level helper\n",
    "from transformers import pipeline\n",
    "\n",
    "sentence_classifier = pipeline(\"text-classification\", model=\"NYTK/sentiment-hts5-hubert-hungarian\")"
   ],
   "metadata": {
    "collapsed": false,
    "ExecuteTime": {
     "end_time": "2023-08-18T14:30:24.902880900Z",
     "start_time": "2023-08-18T14:30:17.014890100Z"
    }
   }
  },
  {
   "cell_type": "code",
   "execution_count": 12,
   "outputs": [],
   "source": [
    "def categorize_labels(text):\n",
    "    try:\n",
    "        return sentence_classifier(text, top_k=5)\n",
    "    except Exception as e:\n",
    "        print(f\"An error occurred: {type(e).__name__} - {e}\")\n",
    "        return None"
   ],
   "metadata": {
    "collapsed": false,
    "ExecuteTime": {
     "end_time": "2023-08-18T14:30:45.247715600Z",
     "start_time": "2023-08-18T14:30:45.206772600Z"
    }
   }
  },
  {
   "cell_type": "code",
   "execution_count": 15,
   "outputs": [
    {
     "name": "stderr",
     "output_type": "stream",
     "text": [
      "100%|██████████| 4375/4375 [10:54<00:00,  6.69it/s]\n"
     ]
    }
   ],
   "source": [
    "corpus_sented = pd.concat([corpus_sented,  #left\n",
    "                           corpus_sented['sentences']  #right\n",
    "                          .progress_apply(categorize_labels)\n",
    "                          .explode()\n",
    "                          .apply(pd.Series)\n",
    "                          .reset_index().pivot(index='index', columns='label', values='score')]\n",
    "                          , axis=1)"
   ],
   "metadata": {
    "collapsed": false,
    "ExecuteTime": {
     "end_time": "2023-08-20T10:16:15.576261Z",
     "start_time": "2023-08-20T10:05:12.875145Z"
    }
   }
  },
  {
   "cell_type": "code",
   "execution_count": 17,
   "outputs": [],
   "source": [
    "corpus_sented = corpus_sented.rename({'LABEL_0': '-2',\n",
    "                                      'LABEL_1': '-1',\n",
    "                                      'LABEL_2': '0',\n",
    "                                      'LABEL_3': '1',\n",
    "                                      'LABEL_4': '2'}, axis=1)"
   ],
   "metadata": {
    "collapsed": false,
    "ExecuteTime": {
     "end_time": "2023-08-20T10:18:06.029628200Z",
     "start_time": "2023-08-20T10:18:06.020141Z"
    }
   }
  },
  {
   "cell_type": "code",
   "execution_count": 18,
   "outputs": [],
   "source": [
    "#introducing a constant shift compared to the 0 solution to bias towards the norm:\n",
    "for col in ['-2', '-1', '1', '2']:\n",
    "    corpus_sented[col] = corpus_sented[col] - 0.3"
   ],
   "metadata": {
    "collapsed": false,
    "ExecuteTime": {
     "end_time": "2023-08-20T10:18:31.665258Z",
     "start_time": "2023-08-20T10:18:31.619124200Z"
    }
   }
  },
  {
   "cell_type": "code",
   "execution_count": 19,
   "outputs": [],
   "source": [
    "corpus_sented['most_probable'] = corpus_sented[['-2', '-1', '0', '1', '2']].idxmax(axis=1)"
   ],
   "metadata": {
    "collapsed": false,
    "ExecuteTime": {
     "end_time": "2023-08-20T10:18:32.036918200Z",
     "start_time": "2023-08-20T10:18:32.016254100Z"
    }
   }
  },
  {
   "cell_type": "code",
   "execution_count": 20,
   "outputs": [],
   "source": [
    "for col in ['-2', '-1', '1', '2']:\n",
    "    corpus_sented[col] = corpus_sented[col] + 0.3"
   ],
   "metadata": {
    "collapsed": false,
    "ExecuteTime": {
     "end_time": "2023-08-20T10:18:33.133911800Z",
     "start_time": "2023-08-20T10:18:33.125323800Z"
    }
   }
  },
  {
   "cell_type": "code",
   "execution_count": 7,
   "outputs": [],
   "source": [
    "negative = corpus_sented[corpus_sented['most_probable'].str.contains('|'.join(['-2', '-1']))]"
   ],
   "metadata": {
    "collapsed": false,
    "ExecuteTime": {
     "end_time": "2023-08-17T14:04:06.748140700Z",
     "start_time": "2023-08-17T14:04:06.710476900Z"
    }
   }
  },
  {
   "cell_type": "code",
   "execution_count": 8,
   "outputs": [],
   "source": [
    "positive = corpus_sented[corpus_sented['most_probable'].str.contains('|'.join(['^1', '^2']))]"
   ],
   "metadata": {
    "collapsed": false,
    "ExecuteTime": {
     "end_time": "2023-08-17T14:04:06.832993500Z",
     "start_time": "2023-08-17T14:04:06.728137400Z"
    }
   }
  },
  {
   "cell_type": "code",
   "execution_count": 9,
   "outputs": [],
   "source": [
    "very_negative = corpus_sented[corpus_sented['most_probable'].str.contains('-2')]\n",
    "very_positive = corpus_sented[corpus_sented['most_probable'].str.contains('^2')]"
   ],
   "metadata": {
    "collapsed": false,
    "ExecuteTime": {
     "end_time": "2023-08-17T14:04:06.836006400Z",
     "start_time": "2023-08-17T14:04:06.747059400Z"
    }
   }
  },
  {
   "cell_type": "code",
   "execution_count": 21,
   "outputs": [],
   "source": [
    "corpus_sented['text_id'] = corpus_sented.groupby('text').ngroup()"
   ],
   "metadata": {
    "collapsed": false,
    "ExecuteTime": {
     "end_time": "2023-08-20T10:18:48.637847400Z",
     "start_time": "2023-08-20T10:18:48.622519400Z"
    }
   }
  },
  {
   "cell_type": "code",
   "execution_count": 32,
   "outputs": [],
   "source": [
    "corpus_sented['text'] = corpus_sented.groupby('text_id')['sentences'].transform(' '.join)"
   ],
   "metadata": {
    "collapsed": false,
    "ExecuteTime": {
     "end_time": "2023-08-20T10:24:53.825918600Z",
     "start_time": "2023-08-20T10:24:53.651534500Z"
    }
   }
  },
  {
   "cell_type": "code",
   "execution_count": 34,
   "outputs": [],
   "source": [
    "corpus_sented['negative_sentences'] = corpus_sented['most_probable'].apply(lambda x: x in ['-1', '-2'])\n",
    "corpus_sented['very_negative_sentences'] = corpus_sented['most_probable'].str.contains('-2')\n",
    "corpus_sented['positive_sentences'] = corpus_sented['most_probable'].apply(lambda x: x in ['1', '2'])\n",
    "corpus_sented['very_positive_sentences'] = corpus_sented['most_probable'].str.contains('^2')"
   ],
   "metadata": {
    "collapsed": false,
    "ExecuteTime": {
     "end_time": "2023-08-20T10:25:16.097099600Z",
     "start_time": "2023-08-20T10:25:16.081885800Z"
    }
   }
  },
  {
   "cell_type": "code",
   "execution_count": 35,
   "outputs": [],
   "source": [
    "corpus_sented['has_negative'] = corpus_sented.groupby('text_id')['negative_sentences'].transform('max')\n",
    "corpus_sented['has_very_negative'] = corpus_sented.groupby('text_id')['very_negative_sentences'].transform('max')\n",
    "corpus_sented['has_positive'] = corpus_sented.groupby('text_id')['positive_sentences'].transform('max')\n",
    "corpus_sented['has_very_positive'] = corpus_sented.groupby('text_id')['very_positive_sentences'].transform('max')"
   ],
   "metadata": {
    "collapsed": false,
    "ExecuteTime": {
     "end_time": "2023-08-20T10:25:17.183493200Z",
     "start_time": "2023-08-20T10:25:17.156876900Z"
    }
   }
  },
  {
   "cell_type": "code",
   "execution_count": 40,
   "outputs": [],
   "source": [
    "corpus_sented.to_csv('results/sentiment_predicted.csv', index=True)"
   ],
   "metadata": {
    "collapsed": false
   }
  },
  {
   "cell_type": "code",
   "execution_count": null,
   "outputs": [],
   "source": [
    "# corpus_sented = pd.read_csv('results/sentiment_predicted.csv')"
   ],
   "metadata": {
    "collapsed": false
   }
  },
  {
   "cell_type": "code",
   "execution_count": 55,
   "outputs": [],
   "source": [
    "corpus = corpus_sented.drop_duplicates('text_id').drop(['sentences',\n",
    "                                                        'sentence_token_count',\n",
    "                                                        'negative_sentences',\n",
    "                                                        'very_negative_sentences',\n",
    "                                                        'positive_sentences',\n",
    "                                                        'very_positive_sentences'], axis=1)"
   ],
   "metadata": {
    "collapsed": false,
    "ExecuteTime": {
     "end_time": "2023-08-21T09:37:18.075574800Z",
     "start_time": "2023-08-21T09:37:17.572017900Z"
    }
   }
  },
  {
   "cell_type": "code",
   "execution_count": 61,
   "outputs": [],
   "source": [
    "corpus.reset_index(inplace=True)"
   ],
   "metadata": {
    "collapsed": false,
    "ExecuteTime": {
     "end_time": "2023-08-21T10:52:45.168899700Z",
     "start_time": "2023-08-21T10:52:45.057550900Z"
    }
   }
  },
  {
   "cell_type": "markdown",
   "source": [
    "# Embeddings of subsets - to be tokenized"
   ],
   "metadata": {
    "collapsed": false
   }
  },
  {
   "cell_type": "code",
   "execution_count": 41,
   "outputs": [],
   "source": [
    "from text_processing.embedding import SentenceEmbedder"
   ],
   "metadata": {
    "collapsed": false,
    "ExecuteTime": {
     "end_time": "2023-08-21T09:09:59.657422900Z",
     "start_time": "2023-08-21T09:09:59.541265700Z"
    }
   }
  },
  {
   "cell_type": "code",
   "execution_count": 42,
   "outputs": [],
   "source": [
    "embedder = SentenceEmbedder()"
   ],
   "metadata": {
    "collapsed": false,
    "ExecuteTime": {
     "end_time": "2023-08-21T09:10:25.786820Z",
     "start_time": "2023-08-21T09:09:59.865885500Z"
    }
   }
  },
  {
   "cell_type": "code",
   "execution_count": 56,
   "outputs": [
    {
     "name": "stderr",
     "output_type": "stream",
     "text": [
      "100%|██████████| 130/130 [26:01<00:00, 12.01s/it]\n"
     ]
    }
   ],
   "source": [
    "text_embeddings = embedder.retrieve_embeddings(\n",
    "    corpus,\n",
    "    text_varname='text',\n",
    "    load_from_file=False,\n",
    "    persist=True,\n",
    "    embedding_file_path=project_folders['work'] / 'embedding_text.npy')"
   ],
   "metadata": {
    "collapsed": false,
    "ExecuteTime": {
     "end_time": "2023-08-21T10:03:43.842603300Z",
     "start_time": "2023-08-21T09:37:41.855750400Z"
    }
   }
  },
  {
   "cell_type": "markdown",
   "source": [
    "# Preparing for Topic Modeling - Lemmatization for c-TF-IDF"
   ],
   "metadata": {
    "collapsed": false
   }
  },
  {
   "cell_type": "code",
   "execution_count": 64,
   "outputs": [],
   "source": [
    "import hu_core_news_lg\n",
    "\n",
    "nlp = hu_core_news_lg.load()"
   ],
   "metadata": {
    "collapsed": false,
    "ExecuteTime": {
     "end_time": "2023-08-21T10:53:16.590432100Z",
     "start_time": "2023-08-21T10:53:13.382314600Z"
    }
   }
  },
  {
   "cell_type": "code",
   "execution_count": 65,
   "outputs": [],
   "source": [
    "with open('work_files/stop_words.txt', mode='r', encoding='UTF-8') as file:\n",
    "    document = nlp(' '.join([line.strip() for line in file.readlines() + get_stopwords()]))"
   ],
   "metadata": {
    "collapsed": false,
    "ExecuteTime": {
     "end_time": "2023-08-21T10:53:27.190653100Z",
     "start_time": "2023-08-21T10:53:22.386428500Z"
    }
   }
  },
  {
   "cell_type": "code",
   "execution_count": 66,
   "outputs": [
    {
     "name": "stderr",
     "output_type": "stream",
     "text": [
      "100%|██████████| 299/299 [00:00<00:00, 315178.91it/s]\n"
     ]
    }
   ],
   "source": [
    "#lemmatizing stopwords\n",
    "interview_stopwords = list({word.lemma_ for word in tqdm(document)})"
   ],
   "metadata": {
    "collapsed": false,
    "ExecuteTime": {
     "end_time": "2023-08-21T10:53:29.108633600Z",
     "start_time": "2023-08-21T10:53:29.087544400Z"
    }
   }
  },
  {
   "cell_type": "code",
   "execution_count": 67,
   "outputs": [
    {
     "data": {
      "text/plain": "['tényleg',\n 'gondol',\n 'szeret',\n 'néha',\n 'köszi',\n 'mellett',\n 'új',\n 'kicsi',\n 'mikor',\n 'lesz',\n 'amúgy',\n 'ill',\n 'cikk',\n 'sem',\n 'vagy',\n 'ahogy',\n 'írtátl',\n 'illetve',\n 'ok',\n 'több',\n 'vissza',\n 'előtt',\n 'számára',\n 'én',\n 'nehéz',\n 'emilyen',\n 'miért',\n 'vagyis',\n 'újra',\n 'ne',\n 'nincs',\n 'fú',\n 'szép',\n 'míg',\n 'van',\n 'tök',\n 'annyira',\n 'kér',\n 'elso',\n 'ison',\n 'aztán',\n 'lehet',\n 'felír',\n 'oket',\n 'oda',\n 'elég',\n 'egyes',\n 'szerinte',\n 'dolog',\n 'ők',\n 'ő',\n 'rossz',\n 'közben',\n 'továbbá',\n 'miatt',\n 'úgy',\n 'megoszt',\n 'se',\n 'mivel',\n 'ellen',\n 'nagy',\n 'néhány',\n 's',\n 'közül',\n 'és',\n 'maga',\n 'olyan',\n 'keres',\n 'valid',\n 'hogyan',\n 'már',\n 'fel',\n 'ilyen',\n 'szét',\n 'semmi',\n 'majd',\n 'bár',\n 'igazából',\n 'valaki',\n 'aki',\n 'azért',\n 'volna',\n 'át',\n 'sokkal',\n 'oké',\n 'teljes',\n 'ide',\n 'szerint',\n 'milyen',\n 'nyis',\n 'mindig',\n 'itt',\n 'ma',\n 'amíg',\n 'te',\n 'ért',\n 'pozitív',\n 'egyszerre',\n 'kell',\n 'között',\n 'nem',\n 'ha',\n 'azután',\n 'köszön',\n 'valójában',\n 'más',\n 'után',\n 'el',\n 'is',\n 'o',\n 'ugyanez',\n 'kívül',\n 'ismét',\n 'ekkor',\n 'tud',\n 'hanem',\n 'be',\n 'mond',\n 'amikor',\n 'stb.',\n 'össze',\n 'szoba',\n 'ühüm',\n 'valamint',\n 'belül',\n 'ahol',\n 'jól',\n 'mely',\n 'pedig',\n 'által',\n 'éppen',\n 'egymás',\n 'igen',\n 'ír',\n 'most',\n 'szemben',\n 'persze',\n 'saját',\n 'elott',\n 'egyre',\n 'sok',\n 'ilyenkor',\n 'ön',\n 'ki',\n 'tovább',\n 'sajnos',\n 'aha',\n 'ti',\n 'szinte',\n 'csak',\n 'általában',\n 'például',\n 'legalább',\n 'felé',\n 'első',\n 'alatt',\n 'egész',\n 'hiszen',\n 'ez',\n 'e',\n 'keresztül',\n 'egy',\n 'talán',\n 'mi',\n 'egyik',\n 'eddig',\n 'minden',\n 'ugyanis',\n 'eloször',\n 'akkor',\n 'egyébként',\n 'ott',\n 'valami',\n 'nevetés',\n 'jó',\n 'de',\n 'hát',\n 'vár',\n 'tehát',\n 'inkább',\n 'ja',\n 'ami',\n 'mint',\n 'mindenki',\n 'le',\n 'egyetlen',\n 'bocsánat',\n 'úgyhogy',\n 'még',\n 'vele',\n 'amolyan',\n 'annyi',\n 'meg',\n 'megy',\n 'hogy',\n 'egyéb',\n 'ugye',\n 'akar',\n 'szóval',\n 'fontos',\n 'amely',\n 'viszont',\n 'így',\n 'másik',\n 'való',\n 'pont',\n 'nagyon',\n 'elo',\n 'negatív',\n 'nélkül',\n 'ill.',\n 'az',\n 'akár',\n 'hogyha',\n 'túl',\n 'érez',\n 'mert',\n 'a',\n 'ezért',\n 'mintha',\n 'utána',\n 'azonban',\n 'utolsó']"
     },
     "execution_count": 67,
     "metadata": {},
     "output_type": "execute_result"
    }
   ],
   "source": [
    "interview_stopwords"
   ],
   "metadata": {
    "collapsed": false,
    "ExecuteTime": {
     "end_time": "2023-08-21T10:53:34.649608700Z",
     "start_time": "2023-08-21T10:53:34.638275100Z"
    }
   }
  },
  {
   "cell_type": "code",
   "execution_count": 53,
   "outputs": [],
   "source": [
    "corpus_list = corpus_sented['text'].tolist()\n",
    "batch_size = 700"
   ],
   "metadata": {
    "collapsed": false,
    "ExecuteTime": {
     "end_time": "2023-08-17T14:52:13.376473500Z",
     "start_time": "2023-08-17T14:52:13.234977900Z"
    }
   }
  },
  {
   "cell_type": "code",
   "execution_count": 54,
   "outputs": [],
   "source": [
    "batches = [corpus_list[i:i + batch_size] for i in range(0, len(corpus_list), batch_size)]"
   ],
   "metadata": {
    "collapsed": false,
    "ExecuteTime": {
     "end_time": "2023-08-17T14:52:13.991097200Z",
     "start_time": "2023-08-17T14:52:13.973481700Z"
    }
   }
  },
  {
   "cell_type": "code",
   "execution_count": 71,
   "outputs": [
    {
     "name": "stderr",
     "output_type": "stream",
     "text": [
      "  3%|▎         | 67/2066 [00:06<03:28,  9.59it/s]\n",
      "\n",
      "KeyboardInterrupt\n",
      "\n"
     ]
    }
   ],
   "source": [
    "corpus['lemmatized'] = corpus['text'].progress_apply(\n",
    "    lambda x: ' '.join(\n",
    "        [word.lemma_ for word in nlp(x)])).str.replace(' ,', ',').str.replace(' \\\\.', '.')"
   ],
   "metadata": {
    "collapsed": false,
    "ExecuteTime": {
     "end_time": "2023-08-21T11:07:20.959301200Z",
     "start_time": "2023-08-21T11:07:12.036116600Z"
    }
   }
  },
  {
   "cell_type": "code",
   "execution_count": 187,
   "outputs": [],
   "source": [
    "corpus.to_csv('work_files/corpus_lemmatized.csv', index=False)"
   ],
   "metadata": {
    "collapsed": false,
    "ExecuteTime": {
     "end_time": "2023-08-21T12:36:34.073406100Z",
     "start_time": "2023-08-21T12:36:33.985457400Z"
    }
   }
  },
  {
   "cell_type": "markdown",
   "source": [
    "# Topic Modeling"
   ],
   "metadata": {
    "collapsed": false
   }
  },
  {
   "cell_type": "code",
   "execution_count": 74,
   "outputs": [
    {
     "name": "stderr",
     "output_type": "stream",
     "text": [
      "C:\\Users\\jaray\\.conda\\envs\\NLP_MOME\\Lib\\site-packages\\umap\\distances.py:1063: NumbaDeprecationWarning: \u001B[1mThe 'nopython' keyword argument was not supplied to the 'numba.jit' decorator. The implicit default value for this argument is currently False, but it will be changed to True in Numba 0.59.0. See https://numba.readthedocs.io/en/stable/reference/deprecation.html#deprecation-of-object-mode-fall-back-behaviour-when-using-jit for details.\u001B[0m\n",
      "  @numba.jit()\n",
      "C:\\Users\\jaray\\.conda\\envs\\NLP_MOME\\Lib\\site-packages\\umap\\distances.py:1071: NumbaDeprecationWarning: \u001B[1mThe 'nopython' keyword argument was not supplied to the 'numba.jit' decorator. The implicit default value for this argument is currently False, but it will be changed to True in Numba 0.59.0. See https://numba.readthedocs.io/en/stable/reference/deprecation.html#deprecation-of-object-mode-fall-back-behaviour-when-using-jit for details.\u001B[0m\n",
      "  @numba.jit()\n",
      "C:\\Users\\jaray\\.conda\\envs\\NLP_MOME\\Lib\\site-packages\\umap\\distances.py:1086: NumbaDeprecationWarning: \u001B[1mThe 'nopython' keyword argument was not supplied to the 'numba.jit' decorator. The implicit default value for this argument is currently False, but it will be changed to True in Numba 0.59.0. See https://numba.readthedocs.io/en/stable/reference/deprecation.html#deprecation-of-object-mode-fall-back-behaviour-when-using-jit for details.\u001B[0m\n",
      "  @numba.jit()\n",
      "C:\\Users\\jaray\\.conda\\envs\\NLP_MOME\\Lib\\site-packages\\umap\\umap_.py:660: NumbaDeprecationWarning: \u001B[1mThe 'nopython' keyword argument was not supplied to the 'numba.jit' decorator. The implicit default value for this argument is currently False, but it will be changed to True in Numba 0.59.0. See https://numba.readthedocs.io/en/stable/reference/deprecation.html#deprecation-of-object-mode-fall-back-behaviour-when-using-jit for details.\u001B[0m\n",
      "  @numba.jit()\n"
     ]
    }
   ],
   "source": [
    "from text_processing.topic_modeling import *"
   ],
   "metadata": {
    "collapsed": false,
    "ExecuteTime": {
     "end_time": "2023-08-21T11:08:14.880367800Z",
     "start_time": "2023-08-21T11:08:00.408843900Z"
    }
   }
  },
  {
   "cell_type": "code",
   "execution_count": 76,
   "outputs": [],
   "source": [
    "df_topic = corpus[\n",
    "    ['doc_id', 'id', 'lemmatized', 'text', 'has_negative', 'has_positive', 'has_very_negative', 'has_very_positive']]"
   ],
   "metadata": {
    "collapsed": false,
    "ExecuteTime": {
     "end_time": "2023-08-21T11:08:51.160361200Z",
     "start_time": "2023-08-21T11:08:51.115258200Z"
    }
   }
  },
  {
   "cell_type": "code",
   "execution_count": 128,
   "outputs": [],
   "source": [
    "umap_params = {'n_neighbors': 3, 'n_components': 5, 'min_dist': 0.1, 'metric': 'cosine', 'random_state': 42}\n",
    "hdbscan_params = {'min_cluster_size': 5, 'metric': 'euclidean', 'cluster_selection_method': 'eom',\n",
    "                  'prediction_data': True}"
   ],
   "metadata": {
    "collapsed": false,
    "ExecuteTime": {
     "end_time": "2023-08-21T11:17:53.969408900Z",
     "start_time": "2023-08-21T11:17:53.913578800Z"
    }
   }
  },
  {
   "cell_type": "code",
   "execution_count": 129,
   "outputs": [],
   "source": [
    "text_container = TextContainer(corpus_input=df_topic[df_topic.has_negative], text_varname='lemmatized')\n",
    "embeddings_container = EmbeddingsContainer(embeddings=text_embeddings[df_topic[df_topic.has_negative].index])\n",
    "param_container = ParamContainer(\n",
    "    dimensionality_reducer_params=umap_params,\n",
    "    clusterer_params=hdbscan_params,\n",
    "    stopwords=interview_stopwords)"
   ],
   "metadata": {
    "collapsed": false,
    "ExecuteTime": {
     "end_time": "2023-08-21T11:17:54.093567800Z",
     "start_time": "2023-08-21T11:17:54.082269100Z"
    }
   }
  },
  {
   "cell_type": "code",
   "execution_count": 130,
   "outputs": [],
   "source": [
    "model_container = ModelContainer(param_container=param_container)\n",
    "estimator = TopicEstimator(text_container=text_container,\n",
    "                           embeddings_container=embeddings_container,\n",
    "                           applied_models=model_container)"
   ],
   "metadata": {
    "collapsed": false,
    "ExecuteTime": {
     "end_time": "2023-08-21T11:18:06.877452300Z",
     "start_time": "2023-08-21T11:17:54.276225600Z"
    }
   }
  },
  {
   "cell_type": "code",
   "execution_count": 131,
   "outputs": [],
   "source": [
    "_, _, topic_model = estimator.estimate_topic_model()"
   ],
   "metadata": {
    "collapsed": false,
    "ExecuteTime": {
     "end_time": "2023-08-21T11:18:12.381030700Z",
     "start_time": "2023-08-21T11:18:06.885268900Z"
    }
   }
  },
  {
   "cell_type": "code",
   "execution_count": 133,
   "outputs": [],
   "source": [
    "negative_results = topic_model.get_topic_info()"
   ],
   "metadata": {
    "collapsed": false,
    "ExecuteTime": {
     "end_time": "2023-08-21T11:20:47.517728600Z",
     "start_time": "2023-08-21T11:20:47.412088100Z"
    }
   }
  },
  {
   "cell_type": "code",
   "execution_count": 0,
   "outputs": [],
   "source": [
    "umap_params = {'n_neighbors': 3, 'n_components': 5, 'min_dist': 0.1, 'metric': 'cosine', 'random_state': 42}\n",
    "hdbscan_params = {'min_cluster_size': 4, 'metric': 'euclidean', 'cluster_selection_method': 'eom',\n",
    "                  'prediction_data': True}\n",
    "text_container = TextContainer(corpus_input=df_topic[df_topic.has_positive], text_varname='lemmatized')\n",
    "embeddings_container = EmbeddingsContainer(embeddings=text_embeddings[df_topic[df_topic.has_positive].index])\n",
    "param_container = ParamContainer(\n",
    "    dimensionality_reducer_params=umap_params,\n",
    "    clusterer_params=hdbscan_params,\n",
    "    stopwords=interview_stopwords)\n",
    "model_container = ModelContainer(param_container=param_container)\n",
    "estimator = TopicEstimator(text_container=text_container,\n",
    "                           embeddings_container=embeddings_container,\n",
    "                           applied_models=model_container)\n",
    "_, _, topic_model = estimator.estimate_topic_model()"
   ],
   "metadata": {
    "collapsed": false
   }
  },
  {
   "cell_type": "code",
   "execution_count": 138,
   "outputs": [],
   "source": [
    "positive_results = topic_model.get_topic_info()"
   ],
   "metadata": {
    "collapsed": false,
    "ExecuteTime": {
     "end_time": "2023-08-21T11:23:49.412308900Z",
     "start_time": "2023-08-21T11:23:49.251059100Z"
    }
   }
  },
  {
   "cell_type": "code",
   "execution_count": 140,
   "outputs": [],
   "source": [
    "from pandas import ExcelWriter"
   ],
   "metadata": {
    "collapsed": false,
    "ExecuteTime": {
     "end_time": "2023-08-21T11:25:49.658652900Z",
     "start_time": "2023-08-21T11:25:49.589566600Z"
    }
   }
  },
  {
   "cell_type": "code",
   "execution_count": 147,
   "outputs": [],
   "source": [
    "sheet_names = ['negative', 'positive']\n",
    "with ExcelWriter(project_folders['result'] / 'results.xlsx') as writer:\n",
    "    for i, df in enumerate([negative_results, positive_results]):\n",
    "        df.to_excel(writer, f'{sheet_names[i]} results')"
   ],
   "metadata": {
    "collapsed": false,
    "ExecuteTime": {
     "end_time": "2023-08-21T11:27:53.324403300Z",
     "start_time": "2023-08-21T11:27:53.188881300Z"
    }
   }
  },
  {
   "cell_type": "code",
   "execution_count": 25,
   "outputs": [],
   "source": [
    "umap_params_list = [{'n_neighbors': n, 'n_components': c, 'min_dist': d, 'metric': 'cosine', 'random_state': 42}\n",
    "                    for n in [5, 20]\n",
    "                    for c in [2, 3, 5]\n",
    "                    for d in [.1]]\n",
    "hdbscan_params_list = [\n",
    "    {'min_cluster_size': m, 'metric': 'euclidean', 'cluster_selection_method': 'eom', 'prediction_data': True}\n",
    "    for m in [5, 15, 30, 50]]\n",
    "\n",
    "iterate_topic_estimator = IterateTopicEstimator(param_container=param_container,\n",
    "                                                embeddings_container=embeddings_container,\n",
    "                                                text_container=text_container,\n",
    "                                                paramgrid_filename=project_folders[\n",
    "                                                                       'result'] / 'negative_full_param_grid.xlsx',\n",
    "                                                reduced_embeddings_folder='negative_reduced_embeddings',\n",
    "                                                dimensionality_reducer_params_to_iterate=umap_params_list,\n",
    "                                                clusterer_params_to_iterate=hdbscan_params_list)"
   ],
   "metadata": {
    "collapsed": false,
    "ExecuteTime": {
     "end_time": "2023-08-17T11:06:42.336250300Z",
     "start_time": "2023-08-17T11:06:29.813141800Z"
    }
   }
  },
  {
   "cell_type": "code",
   "execution_count": 26,
   "outputs": [
    {
     "name": "stderr",
     "output_type": "stream",
     "text": [
      "  0%|          | 0/6 [00:00<?, ?it/s]\n",
      "  0%|          | 0/4 [00:00<?, ?it/s]\u001B[A\n",
      " 25%|██▌       | 1/4 [00:20<01:00, 20.32s/it]\u001B[A\n",
      " 50%|█████     | 2/4 [00:31<00:29, 14.94s/it]\u001B[A\n",
      " 75%|███████▌  | 3/4 [00:46<00:14, 14.94s/it]\u001B[A\n",
      "100%|██████████| 4/4 [01:10<00:00, 17.70s/it]\u001B[A\n",
      " 17%|█▋        | 1/6 [01:58<09:53, 118.70s/it]\n",
      "  0%|          | 0/4 [00:00<?, ?it/s]\u001B[A\n",
      " 25%|██▌       | 1/4 [00:15<00:46, 15.62s/it]\u001B[A\n",
      " 50%|█████     | 2/4 [00:31<00:31, 15.61s/it]\u001B[A\n",
      " 75%|███████▌  | 3/4 [00:49<00:16, 16.83s/it]\u001B[A\n",
      "100%|██████████| 4/4 [01:04<00:00, 16.04s/it]\u001B[A\n",
      " 33%|███▎      | 2/6 [03:36<07:06, 106.63s/it]\n",
      "  0%|          | 0/4 [00:00<?, ?it/s]\u001B[A\n",
      " 25%|██▌       | 1/4 [00:17<00:53, 17.69s/it]\u001B[A\n",
      " 50%|█████     | 2/4 [00:34<00:34, 17.13s/it]\u001B[A\n",
      " 75%|███████▌  | 3/4 [00:48<00:15, 15.94s/it]\u001B[A\n",
      "100%|██████████| 4/4 [01:01<00:00, 15.27s/it]\u001B[A\n",
      " 50%|█████     | 3/6 [05:09<05:00, 100.21s/it]\n",
      "  0%|          | 0/4 [00:00<?, ?it/s]\u001B[A\n",
      " 25%|██▌       | 1/4 [00:12<00:37, 12.52s/it]\u001B[A\n",
      " 50%|█████     | 2/4 [00:28<00:29, 14.58s/it]\u001B[A\n",
      " 75%|███████▌  | 3/4 [00:40<00:13, 13.54s/it]\u001B[A\n",
      "100%|██████████| 4/4 [01:00<00:00, 15.09s/it]\u001B[A\n",
      " 67%|██████▋   | 4/6 [06:34<03:08, 94.31s/it] \n",
      "  0%|          | 0/4 [00:00<?, ?it/s]\u001B[A\n",
      " 25%|██▌       | 1/4 [00:10<00:31, 10.50s/it]\u001B[A\n",
      " 50%|█████     | 2/4 [00:19<00:19,  9.82s/it]\u001B[A\n",
      " 75%|███████▌  | 3/4 [00:29<00:09,  9.58s/it]\u001B[A\n",
      "100%|██████████| 4/4 [00:43<00:00, 10.87s/it]\u001B[A\n",
      " 83%|████████▎ | 5/6 [07:56<01:29, 89.73s/it]\n",
      "  0%|          | 0/4 [00:00<?, ?it/s]\u001B[A\n",
      " 25%|██▌       | 1/4 [00:11<00:35, 11.99s/it]\u001B[A\n",
      " 50%|█████     | 2/4 [00:21<00:20, 10.41s/it]\u001B[A\n",
      " 75%|███████▌  | 3/4 [00:29<00:09,  9.27s/it]\u001B[A\n",
      "100%|██████████| 4/4 [00:35<00:00,  8.86s/it]\u001B[A\n",
      "100%|██████████| 6/6 [08:54<00:00, 89.14s/it]\n"
     ]
    }
   ],
   "source": [
    "iterate_topic_estimator.set_param_grid()\n",
    "iterate_topic_estimator.estimate_and_store_over_param_set(optimized=True, persist=True)\n",
    "save_xls(iterate_topic_estimator.topic_tables, iterate_topic_estimator.paramgrid_result_path)"
   ],
   "metadata": {
    "collapsed": false,
    "ExecuteTime": {
     "end_time": "2023-08-17T11:15:42.078731400Z",
     "start_time": "2023-08-17T11:06:42.343253200Z"
    }
   }
  },
  {
   "cell_type": "code",
   "execution_count": 195,
   "outputs": [],
   "source": [
    "param_container.vectorizer_params"
   ],
   "metadata": {
    "collapsed": false,
    "ExecuteTime": {
     "end_time": "2023-08-17T11:00:15.568586300Z",
     "start_time": "2023-08-17T11:00:15.443573500Z"
    }
   }
  },
  {
   "cell_type": "code",
   "execution_count": 196,
   "outputs": [],
   "source": [
    "asd = ParamContainer(stopwords=get_stopwords())"
   ],
   "metadata": {
    "collapsed": false,
    "ExecuteTime": {
     "end_time": "2023-08-17T11:01:08.042110600Z",
     "start_time": "2023-08-17T11:01:00.623026300Z"
    }
   }
  },
  {
   "cell_type": "code",
   "execution_count": 198,
   "outputs": [
    {
     "data": {
      "text/plain": "['azonban',\n 'számára',\n 'ison',\n 'által',\n 'őket',\n 'éppen',\n 'csak',\n 'egyéb',\n 'amelyet',\n 'sok',\n 'persze',\n 'ilyenkor',\n 'egy',\n 'valami',\n 'több',\n 'elég',\n 'a',\n 'teljes',\n 'hiszen',\n 'hát',\n 'voltak',\n 'aztán',\n 'inkább',\n 'belül',\n 'eddig',\n 'ekkor',\n 'sem',\n 'ilyen',\n 'közül',\n 'mindenki',\n 'ellen',\n 'elso',\n 'cikk',\n 'lett',\n 'előtt',\n 'nekem',\n 'stb.',\n 'való',\n 'ebben',\n 'melyek',\n 'kívül',\n 'pedig',\n 'akár',\n 'szerint',\n 'eloször',\n 'amelyeket',\n 'amelynek',\n 'jó',\n 'ugyanis',\n 'valamint',\n 'tovább',\n 'egész',\n 'le',\n 'hanem',\n 'hogyan',\n 'ki',\n 'lehetett',\n 'ma',\n 'vagy',\n 'mit',\n 'mi',\n 'o',\n 'jól',\n 'lenne',\n 'ok',\n 'nagy',\n 'sokat',\n 'össze',\n 'aki',\n 'legyen',\n 'minden',\n 'amíg',\n 'volt',\n 'sokkal',\n 'ezen',\n 'között',\n 'vagyis',\n 'de',\n 'újra',\n 'ha',\n 'akkor',\n 's',\n 'magát',\n 'ismét',\n 'ő',\n 'vannak',\n 'maga',\n 'azt',\n 'ehhez',\n 'is',\n 'mely',\n 'valaki',\n 'ennek',\n 'volna',\n 'keressünk',\n 'szét',\n 'igen',\n 'ti',\n 'mindent',\n 'ezért',\n 'túl',\n 'ez',\n 'ahogy',\n 'cikkeket',\n 'úgy',\n 'ahhoz',\n 'mintha',\n 'és',\n 'tehát',\n 'más',\n 'azzal',\n 'mindig',\n 'kellett',\n 'nem',\n 'át',\n 'ott',\n 'nagyon',\n 'nélkül',\n 'arra',\n 'ill',\n 'te',\n 'majd',\n 'voltam',\n 'elott',\n 'ezzel',\n 'szemben',\n 'már',\n 'amelyekben',\n 'cikkek',\n 'lenni',\n 'mellett',\n 'amely',\n 'nagyobb',\n 'néha',\n 'vissza',\n 'rá',\n 'alatt',\n 'neki',\n 'amolyan',\n 'egyetlen',\n 'illetve',\n 'annak',\n 'ami',\n 'azok',\n 'nincs',\n 'amit',\n 'azután',\n 'erre',\n 'még',\n 'azért',\n 'utolsó',\n 'ezt',\n 'miatt',\n 'mint',\n 'egyik',\n 'semmi',\n 'viszont',\n 'itt',\n 'lesz',\n 'amikor',\n 'ide',\n 'hogy',\n 'egyre',\n 'el',\n 'keresztül',\n 'így',\n 'ön',\n 'ill.',\n 'akik',\n 'abban',\n 'az',\n 'bár',\n 'meg',\n 'mert',\n 'most',\n 'ezek',\n 'mondta',\n 'néhány',\n 'míg',\n 'vagyok',\n 'egyes',\n 'oda',\n 'szinte',\n 'benne',\n 'olyan',\n 'kell',\n 'például',\n 'elo',\n 'azon',\n 'emilyen',\n 'lehet',\n 'újabb',\n 'amelyek',\n 'jobban',\n 'másik',\n 'oket',\n 'továbbá',\n 'új',\n 'van',\n 'arról',\n 'talán',\n 'utána',\n 'voltunk',\n 'felé',\n 'milyen',\n 'után',\n 'saját',\n 'vele',\n 'ahol',\n 'mikor',\n 'fel',\n 'e',\n 'általában',\n 'mivel',\n 'miért',\n 'ne',\n 'én',\n 'legalább',\n 'be',\n 'szeretnék',\n 'szeretném',\n 'szeret']"
     },
     "execution_count": 198,
     "metadata": {},
     "output_type": "execute_result"
    }
   ],
   "source": [
    "asd.stopwords"
   ],
   "metadata": {
    "collapsed": false,
    "ExecuteTime": {
     "end_time": "2023-08-17T11:01:15.135847100Z",
     "start_time": "2023-08-17T11:01:15.021757600Z"
    }
   }
  },
  {
   "cell_type": "code",
   "execution_count": 175,
   "outputs": [],
   "source": [
    "text_container = TextContainer(corpus_input=df_topic[df_topic.has_positive], text_varname='text')\n",
    "embeddings_container = EmbeddingsContainer(embeddings=text_embeddings[df_topic[df_topic.has_positive].index])\n",
    "param_container = ParamContainer(stopwords=get_stopwords())"
   ],
   "metadata": {
    "collapsed": false,
    "ExecuteTime": {
     "end_time": "2023-08-16T15:14:50.603270700Z",
     "start_time": "2023-08-16T15:14:46.015046800Z"
    }
   }
  },
  {
   "cell_type": "code",
   "execution_count": 176,
   "outputs": [],
   "source": [
    "iterate_topic_estimator = IterateTopicEstimator(param_container=param_container,\n",
    "                                                embeddings_container=embeddings_container,\n",
    "                                                text_container=text_container,\n",
    "                                                paramgrid_filename=project_folders[\n",
    "                                                                       'result'] / 'positive_full_param_grid.xlsx',\n",
    "                                                reduced_embeddings_folder='positive_reduced_embeddings',\n",
    "                                                dimensionality_reducer_params_to_iterate=umap_params_list,\n",
    "                                                clusterer_params_to_iterate=hdbscan_params_list)"
   ],
   "metadata": {
    "collapsed": false,
    "ExecuteTime": {
     "end_time": "2023-08-16T15:14:52.685789500Z",
     "start_time": "2023-08-16T15:14:50.609301200Z"
    }
   }
  },
  {
   "cell_type": "code",
   "execution_count": 177,
   "outputs": [
    {
     "name": "stderr",
     "output_type": "stream",
     "text": [
      "  0%|          | 0/6 [00:00<?, ?it/s]\n",
      "  0%|          | 0/4 [00:00<?, ?it/s]\u001B[A\n",
      " 25%|██▌       | 1/4 [00:10<00:31, 10.56s/it]\u001B[A\n",
      " 50%|█████     | 2/4 [00:12<00:11,  5.67s/it]\u001B[A\n",
      " 75%|███████▌  | 3/4 [00:14<00:03,  3.99s/it]\u001B[A\n",
      "100%|██████████| 4/4 [00:16<00:00,  4.22s/it]\u001B[A\n",
      " 17%|█▋        | 1/6 [00:29<02:25, 29.16s/it]\n",
      "  0%|          | 0/4 [00:00<?, ?it/s]\u001B[A\n",
      " 25%|██▌       | 1/4 [00:02<00:06,  2.31s/it]\u001B[A\n",
      " 50%|█████     | 2/4 [00:04<00:04,  2.02s/it]\u001B[A\n",
      " 75%|███████▌  | 3/4 [00:05<00:01,  1.91s/it]\u001B[A\n",
      "100%|██████████| 4/4 [00:08<00:00,  2.06s/it]\u001B[A\n",
      " 33%|███▎      | 2/6 [00:40<01:15, 18.95s/it]\n",
      "  0%|          | 0/4 [00:00<?, ?it/s]\u001B[A\n",
      " 25%|██▌       | 1/4 [00:02<00:06,  2.16s/it]\u001B[A\n",
      " 50%|█████     | 2/4 [00:04<00:04,  2.08s/it]\u001B[A\n",
      " 75%|███████▌  | 3/4 [00:06<00:02,  2.03s/it]\u001B[A\n",
      "100%|██████████| 4/4 [00:08<00:00,  2.00s/it]\u001B[A\n",
      " 50%|█████     | 3/6 [00:53<00:48, 16.06s/it]\n",
      "  0%|          | 0/4 [00:00<?, ?it/s]\u001B[A\n",
      " 25%|██▌       | 1/4 [00:02<00:05,  2.00s/it]\u001B[A\n",
      " 50%|█████     | 2/4 [00:03<00:03,  1.98s/it]\u001B[A\n",
      " 75%|███████▌  | 3/4 [00:12<00:05,  5.19s/it]\u001B[A\n",
      "100%|██████████| 4/4 [00:14<00:00,  3.74s/it]\u001B[A\n",
      " 67%|██████▋   | 4/6 [01:11<00:33, 16.93s/it]\n",
      "  0%|          | 0/4 [00:00<?, ?it/s]\u001B[A\n",
      " 25%|██▌       | 1/4 [00:09<00:27,  9.27s/it]\u001B[A\n",
      " 50%|█████     | 2/4 [00:18<00:18,  9.21s/it]\u001B[A\n",
      " 75%|███████▌  | 3/4 [00:27<00:09,  9.04s/it]\u001B[A\n",
      "100%|██████████| 4/4 [00:36<00:00,  9.13s/it]\u001B[A\n",
      " 83%|████████▎ | 5/6 [02:06<00:30, 30.37s/it]\n",
      "  0%|          | 0/4 [00:00<?, ?it/s]\u001B[A\n",
      " 25%|██▌       | 1/4 [00:08<00:26,  8.79s/it]\u001B[A\n",
      " 50%|█████     | 2/4 [00:15<00:15,  7.56s/it]\u001B[A\n",
      " 75%|███████▌  | 3/4 [00:22<00:07,  7.37s/it]\u001B[A\n",
      "100%|██████████| 4/4 [00:31<00:00,  7.92s/it]\u001B[A\n",
      "100%|██████████| 6/6 [02:55<00:00, 29.29s/it]\n"
     ]
    }
   ],
   "source": [
    "iterate_topic_estimator.set_param_grid()\n",
    "iterate_topic_estimator.estimate_and_store_over_param_set(optimized=True, persist=True)"
   ],
   "metadata": {
    "collapsed": false,
    "ExecuteTime": {
     "end_time": "2023-08-16T15:17:48.479196700Z",
     "start_time": "2023-08-16T15:14:52.690912900Z"
    }
   }
  },
  {
   "cell_type": "code",
   "execution_count": 178,
   "outputs": [],
   "source": [
    "save_xls(iterate_topic_estimator.topic_tables, iterate_topic_estimator.paramgrid_result_path)"
   ],
   "metadata": {
    "collapsed": false,
    "ExecuteTime": {
     "end_time": "2023-08-16T15:17:49.023788400Z",
     "start_time": "2023-08-16T15:17:48.483713900Z"
    }
   }
  },
  {
   "cell_type": "code",
   "execution_count": 180,
   "outputs": [],
   "source": [
    "sw = pd.Series(get_stopwords())"
   ],
   "metadata": {
    "collapsed": false,
    "ExecuteTime": {
     "end_time": "2023-08-17T09:32:37.683870Z",
     "start_time": "2023-08-17T09:32:32.450342800Z"
    }
   }
  },
  {
   "cell_type": "code",
   "execution_count": 185,
   "outputs": [
    {
     "data": {
      "text/plain": "True"
     },
     "execution_count": 185,
     "metadata": {},
     "output_type": "execute_result"
    }
   ],
   "source": [
    "sw.str.contains('és').max()"
   ],
   "metadata": {
    "collapsed": false,
    "ExecuteTime": {
     "end_time": "2023-08-17T09:33:04.264188100Z",
     "start_time": "2023-08-17T09:33:04.139843500Z"
    }
   }
  },
  {
   "cell_type": "code",
   "execution_count": 188,
   "outputs": [
    {
     "data": {
      "text/plain": "NoneType"
     },
     "execution_count": 188,
     "metadata": {},
     "output_type": "execute_result"
    }
   ],
   "source": [
    "iterate_topic_estimator.estimator.vectorizer"
   ],
   "metadata": {
    "collapsed": false,
    "ExecuteTime": {
     "end_time": "2023-08-17T09:37:43.149748600Z",
     "start_time": "2023-08-17T09:37:43.116229200Z"
    }
   }
  },
  {
   "cell_type": "code",
   "execution_count": 95,
   "outputs": [
    {
     "data": {
      "text/plain": "['tud',\n 'szóval',\n 'ugyanez',\n 'szoba',\n 'felír',\n 'bocsánat',\n 'oké',\n 'ühüm',\n 'aha',\n 'ja',\n 'nehéz',\n 'sajnos',\n 'ír',\n 'szerinte',\n 'tényleg',\n 'kicsi',\n 'közben',\n 'dolog',\n 'annyi',\n 'amúgy',\n 'mond',\n 'egyébként',\n 'első',\n 'hogyha',\n 'lesz',\n 'tök',\n 'köszön',\n 'köszön',\n 'köszi',\n 'ért',\n 'ért',\n 'ugye',\n 'annyi',\n 'dolog',\n 'se',\n 'úgyhogy',\n 'ért',\n 'vár',\n 'tud',\n 'kér',\n 'ti',\n 'fontos',\n 'egyszerre',\n 'kér',\n 'egymás',\n 'tud',\n 'negatív',\n 'pozitív',\n 'az',\n 'szép',\n 'nevetés',\n 'sajnos',\n 'jó',\n 'rossz',\n 'ja',\n 'mi',\n 'igazából',\n 'pont',\n 'mond',\n 'valid',\n 'érez',\n 'gondol',\n 'fú',\n 'valójában',\n 'akar',\n 'szeret',\n 'annyi',\n 'szóval',\n 'hogyha',\n 'ért',\n 'közben',\n 'megoszt',\n 'ez',\n 'hogyan',\n 'milyen',\n 'azonban',\n 'vagyis',\n 'ahol',\n 'ide',\n 'emilyen',\n 'elég',\n 'ön',\n 'sok',\n 'között',\n 'hanem',\n 'jól',\n 'lesz',\n 'nagyon',\n 'az',\n 'jól',\n 'egyes',\n 'lesz',\n 'amely',\n 'ez',\n 'mi',\n 'új',\n 'van',\n 'ezért',\n 'szinte',\n 'vele',\n 'ellen',\n 'ez',\n 'legalább',\n 'mi',\n 'számára',\n 'után',\n 'aztán',\n 'hogy',\n 'ismét',\n 'amolyan',\n 'más',\n 'ahogy',\n 'kell',\n 'persze',\n 'akár',\n 'ez',\n 'még',\n 'ez',\n 'mint',\n 'egyre',\n 'amely',\n 'hiszen',\n 'igen',\n 'ami',\n 'míg',\n 'amíg',\n 'viszont',\n 'a',\n 'lehet',\n 'amikor',\n 'keresztül',\n 'az',\n 'én',\n 'így',\n 'újra',\n 'tehát',\n 'szerint',\n 'ok',\n 'ha',\n 'hát',\n 'ilyenkor',\n 'elso',\n 'jó',\n 'az',\n 'olyan',\n 'szemben',\n 'ti',\n 'oda',\n 'általában',\n 'kell',\n 'nagy',\n 'ne',\n 'nagy',\n 'mintha',\n 'át',\n 'volna',\n 'mivel',\n 'az',\n 'az',\n 'én',\n 'minden',\n 'oket',\n 'az',\n 'mely',\n 'eddig',\n 'ez',\n 'illetve',\n 'elott',\n 'úgy',\n 'például',\n 'azért',\n 'mely',\n 'az',\n 'éppen',\n 'most',\n 'előtt',\n 'szét',\n 'már',\n 'túl',\n 'vagy',\n 'valami',\n 'ő',\n 'egy',\n 's',\n 'amely',\n 'több',\n 'e',\n 'stb.',\n 'pedig',\n 'egyéb',\n 'ez',\n 'nélkül',\n 'teljes',\n 'egész',\n 'is',\n 'nincs',\n 'új',\n 'ő',\n 'utolsó',\n 'saját',\n 'van',\n 'az',\n 'elo',\n 'van',\n 'le',\n 'talán',\n 'meg',\n 'egyik',\n 'maga',\n 'ilyen',\n 'maga',\n 'te',\n 'van',\n 'sokkal',\n 'mindenki',\n 'tovább',\n 'ma',\n 'minden',\n 'az',\n 'eloször',\n 'bár',\n 'is',\n 'sok',\n 'belül',\n 'valaki',\n 'való',\n 'után',\n 'van',\n 'ki',\n 'van',\n 'ekkor',\n 'lesz',\n 'aki',\n 'néha',\n 'néhány',\n 'ők',\n 'cikk',\n 'ő',\n 'cikk',\n 'de',\n 'felé',\n 'mellett',\n 'miatt',\n 'fel',\n 'o',\n 'valamint',\n 'alatt',\n 'amely',\n 'lesz',\n 'ő',\n 'közül',\n 'inkább',\n 'össze',\n 'lesz',\n 'ill',\n 'miért',\n 'nem',\n 'amely',\n 'be',\n 'által',\n 'cikk',\n 'ugyanis',\n 'azután',\n 'itt',\n 'és',\n 'kívül',\n 'mindig',\n 'továbbá',\n 'egyetlen',\n 'mikor',\n 'ez',\n 'keres',\n 'aki',\n 'van',\n 'másik',\n 'majd',\n 'csak',\n 'vissza',\n 'ill.',\n 'lesz',\n 'ami',\n 'ez',\n 'el',\n 'az',\n 'mond',\n 'ott',\n 'semmi',\n 'akkor',\n 'mert',\n 'amely',\n 'sem',\n 'szeret',\n 'szeret',\n 'szeret']"
     },
     "execution_count": 95,
     "metadata": {},
     "output_type": "execute_result"
    }
   ],
   "source": [
    "interview_stopwords"
   ],
   "metadata": {
    "collapsed": false,
    "ExecuteTime": {
     "end_time": "2023-08-17T12:57:02.486023100Z",
     "start_time": "2023-08-17T12:57:02.470089400Z"
    }
   }
  },
  {
   "cell_type": "code",
   "execution_count": 81,
   "outputs": [],
   "source": [
    "text_instances = text_container.text_instances"
   ],
   "metadata": {
    "collapsed": false
   }
  },
  {
   "cell_type": "code",
   "execution_count": 96,
   "outputs": [
    {
     "name": "stderr",
     "output_type": "stream",
     "text": [
      "100%|██████████| 731/731 [03:16<00:00,  3.72it/s]\n"
     ]
    }
   ],
   "source": [
    "iterate_topic_estimator.topic_models[4].update_topics(text_container.text_instances.progress_apply(\n",
    "    lambda x: ' '.join(\n",
    "        [word.lemma_ for word in nlp(x)])).str.replace(' ,', ',').str.replace(' \\\\.', '.'),\n",
    "                                                      vectorizer_model=CountVectorizer(\n",
    "                                                          stop_words=interview_stopwords))"
   ],
   "metadata": {
    "collapsed": false,
    "ExecuteTime": {
     "end_time": "2023-08-17T13:01:48.163695700Z",
     "start_time": "2023-08-17T12:58:30.051994900Z"
    }
   }
  },
  {
   "cell_type": "code",
   "execution_count": 97,
   "outputs": [
    {
     "data": {
      "text/plain": "   Topic  Count                                  Name  \\\n0     -1      5    -1_covid_unatkoztál_komplett_csaba   \n1      0    682               0_óra_neki_csinál_tanár   \n2      1     31    1_kommunikáció_vesz_füst_problépma   \n3      2     13  2_nyis_kiegyenlítetlen_visszáj_menza   \n\n                                      Representation  \\\n0  [covid, unatkoztál, komplett, csaba, unatkozik...   \n1  [óra, neki, csinál, tanár, egyetem, szak, év, ...   \n2  [kommunikáció, vesz, füst, problépma, láng, tr...   \n3  [nyis, kiegyenlítetlen, visszáj, menza, jaj, h...   \n\n                                 Representative_Docs  \n0  [Köszi szépen. Még mondtad, először Csaba, hog...  \n1  [Hát, én talán kicsit tudok, mert én is azt ír...  \n2  [Igen, és hogy igazából ezáltal funkcióját ves...  \n3  [Hogy ugyanez a visszájára is tud fordulni?, H...  ",
      "text/html": "<div>\n<style scoped>\n    .dataframe tbody tr th:only-of-type {\n        vertical-align: middle;\n    }\n\n    .dataframe tbody tr th {\n        vertical-align: top;\n    }\n\n    .dataframe thead th {\n        text-align: right;\n    }\n</style>\n<table border=\"1\" class=\"dataframe\">\n  <thead>\n    <tr style=\"text-align: right;\">\n      <th></th>\n      <th>Topic</th>\n      <th>Count</th>\n      <th>Name</th>\n      <th>Representation</th>\n      <th>Representative_Docs</th>\n    </tr>\n  </thead>\n  <tbody>\n    <tr>\n      <th>0</th>\n      <td>-1</td>\n      <td>5</td>\n      <td>-1_covid_unatkoztál_komplett_csaba</td>\n      <td>[covid, unatkoztál, komplett, csaba, unatkozik...</td>\n      <td>[Köszi szépen. Még mondtad, először Csaba, hog...</td>\n    </tr>\n    <tr>\n      <th>1</th>\n      <td>0</td>\n      <td>682</td>\n      <td>0_óra_neki_csinál_tanár</td>\n      <td>[óra, neki, csinál, tanár, egyetem, szak, év, ...</td>\n      <td>[Hát, én talán kicsit tudok, mert én is azt ír...</td>\n    </tr>\n    <tr>\n      <th>2</th>\n      <td>1</td>\n      <td>31</td>\n      <td>1_kommunikáció_vesz_füst_problépma</td>\n      <td>[kommunikáció, vesz, füst, problépma, láng, tr...</td>\n      <td>[Igen, és hogy igazából ezáltal funkcióját ves...</td>\n    </tr>\n    <tr>\n      <th>3</th>\n      <td>2</td>\n      <td>13</td>\n      <td>2_nyis_kiegyenlítetlen_visszáj_menza</td>\n      <td>[nyis, kiegyenlítetlen, visszáj, menza, jaj, h...</td>\n      <td>[Hogy ugyanez a visszájára is tud fordulni?, H...</td>\n    </tr>\n  </tbody>\n</table>\n</div>"
     },
     "execution_count": 97,
     "metadata": {},
     "output_type": "execute_result"
    }
   ],
   "source": [
    "iterate_topic_estimator.topic_models[4].get_topic_info()"
   ],
   "metadata": {
    "collapsed": false,
    "ExecuteTime": {
     "end_time": "2023-08-17T13:01:56.003227Z",
     "start_time": "2023-08-17T13:01:55.964214800Z"
    }
   }
  },
  {
   "cell_type": "code",
   "execution_count": 64,
   "outputs": [
    {
     "data": {
      "text/plain": "1       Ha a gondolatot befejezted, akkor újba már ne ...\n8       Mármint így az Óbudai Egyetemhez képest nem vo...\n23      Hát én sem mondanám, hogy volt, vagy nem monda...\n37      Én meg igazából, velem többször megtörtént az,...\n40      Hú, ez egy ilyen megfoghatatlan dolog, ami sze...\n                              ...                        \n2479                                Jaja, rohadjanak meg!\n2491    Nekem még egy lenne, hogy \"jobb órarend felosz...\n2493    Hát én azt írtam, hogy \"kevesebb óra, hogy töb...\n2498    Mondjuk, hogy így. Nekem van egy ilyen, de ez ...\n2499    Köszi szépen. Minden csoporton visszatérő prob...\nName: text, Length: 731, dtype: object"
     },
     "execution_count": 64,
     "metadata": {},
     "output_type": "execute_result"
    }
   ],
   "source": [
    "text_container.text_instances"
   ],
   "metadata": {
    "collapsed": false,
    "ExecuteTime": {
     "end_time": "2023-08-17T12:27:52.186520200Z",
     "start_time": "2023-08-17T12:27:52.072222500Z"
    }
   }
  },
  {
   "cell_type": "code",
   "execution_count": null,
   "outputs": [],
   "source": [],
   "metadata": {
    "collapsed": false
   }
  }
 ],
 "metadata": {
  "kernelspec": {
   "display_name": "Python 3",
   "language": "python",
   "name": "python3"
  },
  "language_info": {
   "codemirror_mode": {
    "name": "ipython",
    "version": 2
   },
   "file_extension": ".py",
   "mimetype": "text/x-python",
   "name": "python",
   "nbconvert_exporter": "python",
   "pygments_lexer": "ipython2",
   "version": "2.7.6"
  }
 },
 "nbformat": 4,
 "nbformat_minor": 0
}
